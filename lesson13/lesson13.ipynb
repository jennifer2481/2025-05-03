{
 "cells": [
  {
   "cell_type": "code",
   "execution_count": 5,
   "id": "6ff12b5d",
   "metadata": {},
   "outputs": [
    {
     "data": {
      "text/plain": [
       "array([[0.24111718, 0.0348766 , 0.4228605 , 0.58491386],\n",
       "       [0.37223171, 0.49490114, 0.76421159, 0.58285109],\n",
       "       [0.84439693, 0.33494514, 0.91640233, 0.73073843]])"
      ]
     },
     "execution_count": 5,
     "metadata": {},
     "output_type": "execute_result"
    }
   ],
   "source": [
    "import numpy as np\n",
    "np.random.random()\n",
    "np.random.random(3)\n",
    "np.random.random(size=3)\n",
    "np.random.random((3, 4))\n",
    "np.random.random(size=(3,4))\n"
   ]
  }
 ],
 "metadata": {
  "kernelspec": {
   "display_name": "jennifer",
   "language": "python",
   "name": "python3"
  },
  "language_info": {
   "codemirror_mode": {
    "name": "ipython",
    "version": 3
   },
   "file_extension": ".py",
   "mimetype": "text/x-python",
   "name": "python",
   "nbconvert_exporter": "python",
   "pygments_lexer": "ipython3",
   "version": "3.10.16"
  }
 },
 "nbformat": 4,
 "nbformat_minor": 5
}
