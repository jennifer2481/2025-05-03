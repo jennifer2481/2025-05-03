{
 "cells": [
  {
   "cell_type": "code",
   "execution_count": 2,
   "id": "bf7cda63",
   "metadata": {},
   "outputs": [
    {
     "name": "stdout",
     "output_type": "stream",
     "text": [
      "Collecting scipy\n",
      "  Downloading scipy-1.15.3-cp310-cp310-win_amd64.whl.metadata (60 kB)\n",
      "Requirement already satisfied: numpy<2.5,>=1.23.5 in c:\\users\\jennifer\\miniconda3\\envs\\jennifer\\lib\\site-packages (from scipy) (2.2.6)\n",
      "Downloading scipy-1.15.3-cp310-cp310-win_amd64.whl (41.3 MB)\n",
      "   ---------------------------------------- 0.0/41.3 MB ? eta -:--:--\n",
      "    --------------------------------------- 0.8/41.3 MB 6.7 MB/s eta 0:00:07\n",
      "   - -------------------------------------- 1.6/41.3 MB 4.7 MB/s eta 0:00:09\n",
      "   -- ------------------------------------- 2.4/41.3 MB 4.3 MB/s eta 0:00:09\n",
      "   --- ------------------------------------ 3.7/41.3 MB 4.6 MB/s eta 0:00:09\n",
      "   ---- ----------------------------------- 5.0/41.3 MB 4.9 MB/s eta 0:00:08\n",
      "   ----- ---------------------------------- 5.5/41.3 MB 4.7 MB/s eta 0:00:08\n",
      "   ------ --------------------------------- 6.6/41.3 MB 4.5 MB/s eta 0:00:08\n",
      "   ------ --------------------------------- 7.1/41.3 MB 4.4 MB/s eta 0:00:08\n",
      "   ------- -------------------------------- 7.9/41.3 MB 4.2 MB/s eta 0:00:08\n",
      "   -------- ------------------------------- 8.7/41.3 MB 4.1 MB/s eta 0:00:08\n",
      "   -------- ------------------------------- 9.2/41.3 MB 4.1 MB/s eta 0:00:08\n",
      "   --------- ------------------------------ 9.4/41.3 MB 3.7 MB/s eta 0:00:09\n",
      "   --------- ------------------------------ 10.2/41.3 MB 3.7 MB/s eta 0:00:09\n",
      "   ---------- ----------------------------- 11.0/41.3 MB 3.7 MB/s eta 0:00:09\n",
      "   ----------- ---------------------------- 12.1/41.3 MB 3.8 MB/s eta 0:00:08\n",
      "   ------------ --------------------------- 12.8/41.3 MB 3.8 MB/s eta 0:00:08\n",
      "   ------------- -------------------------- 13.9/41.3 MB 3.8 MB/s eta 0:00:08\n",
      "   -------------- ------------------------- 14.9/41.3 MB 3.9 MB/s eta 0:00:07\n",
      "   --------------- ------------------------ 15.7/41.3 MB 3.9 MB/s eta 0:00:07\n",
      "   ---------------- ----------------------- 16.5/41.3 MB 3.9 MB/s eta 0:00:07\n",
      "   ---------------- ----------------------- 17.3/41.3 MB 3.9 MB/s eta 0:00:07\n",
      "   ----------------- ---------------------- 18.1/41.3 MB 3.9 MB/s eta 0:00:07\n",
      "   ------------------ --------------------- 19.1/41.3 MB 3.9 MB/s eta 0:00:06\n",
      "   ------------------- -------------------- 19.7/41.3 MB 3.9 MB/s eta 0:00:06\n",
      "   -------------------- ------------------- 21.0/41.3 MB 3.9 MB/s eta 0:00:06\n",
      "   -------------------- ------------------- 21.2/41.3 MB 3.9 MB/s eta 0:00:06\n",
      "   --------------------- ------------------ 22.3/41.3 MB 3.9 MB/s eta 0:00:05\n",
      "   ---------------------- ----------------- 23.1/41.3 MB 3.9 MB/s eta 0:00:05\n",
      "   ----------------------- ---------------- 24.1/41.3 MB 3.9 MB/s eta 0:00:05\n",
      "   ------------------------ --------------- 25.4/41.3 MB 4.0 MB/s eta 0:00:05\n",
      "   ------------------------- -------------- 26.7/41.3 MB 4.0 MB/s eta 0:00:04\n",
      "   -------------------------- ------------- 27.8/41.3 MB 4.0 MB/s eta 0:00:04\n",
      "   --------------------------- ------------ 28.6/41.3 MB 4.1 MB/s eta 0:00:04\n",
      "   --------------------------- ------------ 28.6/41.3 MB 4.1 MB/s eta 0:00:04\n",
      "   ---------------------------- ----------- 29.4/41.3 MB 4.0 MB/s eta 0:00:04\n",
      "   ----------------------------- ---------- 30.7/41.3 MB 4.0 MB/s eta 0:00:03\n",
      "   ------------------------------ --------- 31.5/41.3 MB 4.0 MB/s eta 0:00:03\n",
      "   ------------------------------- -------- 32.8/41.3 MB 4.0 MB/s eta 0:00:03\n",
      "   --------------------------------- ------ 34.1/41.3 MB 4.1 MB/s eta 0:00:02\n",
      "   ---------------------------------- ----- 35.7/41.3 MB 4.1 MB/s eta 0:00:02\n",
      "   ------------------------------------ --- 37.2/41.3 MB 4.2 MB/s eta 0:00:01\n",
      "   ------------------------------------- -- 38.5/41.3 MB 4.3 MB/s eta 0:00:01\n",
      "   ---------------------------------------  40.4/41.3 MB 4.4 MB/s eta 0:00:01\n",
      "   ---------------------------------------  41.2/41.3 MB 4.4 MB/s eta 0:00:01\n",
      "   ---------------------------------------- 41.3/41.3 MB 4.3 MB/s eta 0:00:00\n",
      "Installing collected packages: scipy\n",
      "Successfully installed scipy-1.15.3\n",
      "Note: you may need to restart the kernel to use updated packages.\n"
     ]
    }
   ],
   "source": [
    "%pip install scipy"
   ]
  },
  {
   "cell_type": "code",
   "execution_count": 3,
   "id": "abc3fe60",
   "metadata": {},
   "outputs": [
    {
     "name": "stdout",
     "output_type": "stream",
     "text": [
      "[79.7646604  79.76963411 79.77460781 79.77958152 79.78455522 79.78952893\n",
      " 79.79450263 79.79947634 79.80445004 79.80942375 79.81439745 79.81937116\n",
      " 79.82434486 79.82931857 79.83429228 79.83926598 79.84423969 79.84921339\n",
      " 79.8541871  79.8591608  79.86413451 79.86910821 79.87408192 79.87905562\n",
      " 79.88402933 79.88900303 79.89397674 79.89895045 79.90392415 79.90889786\n",
      " 79.91387156 79.91884527 79.92381897 79.92879268 79.93376638 79.93874009\n",
      " 79.94371379 79.9486875  79.9536612  79.95863491 79.96360862 79.96858232\n",
      " 79.97355603 79.97852973 79.98350344 79.98847714 79.99345085 79.99842455\n",
      " 80.00339826 80.00837196 80.01334567 80.01831937 80.02329308 80.02826679\n",
      " 80.03324049 80.0382142  80.0431879  80.04816161 80.05313531 80.05810902\n",
      " 80.06308272 80.06805643 80.07303013 80.07800384 80.08297754 80.08795125\n",
      " 80.09292496 80.09789866 80.10287237 80.10784607 80.11281978 80.11779348\n",
      " 80.12276719 80.12774089 80.1327146  80.1376883  80.14266201 80.14763571\n",
      " 80.15260942 80.15758313 80.16255683 80.16753054 80.17250424 80.17747795\n",
      " 80.18245165 80.18742536 80.19239906 80.19737277 80.20234647 80.20732018\n",
      " 80.21229389 80.21726759 80.2222413  80.227215   80.23218871 80.23716241\n",
      " 80.24213612 80.24710982 80.25208353 80.25705723]\n"
     ]
    },
    {
     "data": {
      "image/png": "[encoded data removed]",
      "text/plain": [
       "<Figure size 640x480 with 1 Axes>"
      ]
     },
     "metadata": {},
     "output_type": "display_data"
    }
   ],
   "source": [
    "import numpy as np\n",
    "from numpy import ndarray\n",
    "import matplotlib.pyplot as plt\n",
    "from scipy.stats import norm  # 用於計算常態分佈的PDF\n",
    "\n",
    "normal_ditribution:ndarray = np.random.normal(loc=80,scale=0.1,size=(50))\n",
    "plt.hist(normal_ditribution, bins=30, color='#B47157',alpha=0.5)\n",
    "# 計算x軸範圍\n",
    "xmin, xmax = plt.xlim()\n",
    "x = np.linspace(xmin, xmax, 100)\n",
    "# 計算對應x的常態分佈機率密度值\n",
    "p = norm.pdf(x, loc=np.mean(normal_ditribution), scale=np.std(normal_ditribution))\n",
    "plt.plot(x, p, color='red' ,linewidth=2)\n",
    "print(x)\n",
    "plt.show()"
   ]
  }
 ],
 "metadata": {
  "kernelspec": {
   "display_name": "jennifer",
   "language": "python",
   "name": "python3"
  },
  "language_info": {
   "codemirror_mode": {
    "name": "ipython",
    "version": 3
   },
   "file_extension": ".py",
   "mimetype": "text/x-python",
   "name": "python",
   "nbconvert_exporter": "python",
   "pygments_lexer": "ipython3",
   "version": "3.10.16"
  }
 },
 "nbformat": 4,
 "nbformat_minor": 5
}
